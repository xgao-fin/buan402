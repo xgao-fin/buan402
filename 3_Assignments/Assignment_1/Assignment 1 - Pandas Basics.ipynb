{
 "cells": [
  {
   "cell_type": "markdown",
   "metadata": {
    "state": "normal"
   },
   "source": [
    "## Assignment 1 - Pandas Basics\n",
    "\n",
    "Before you start this assignment, please review the class notebook for 1 - Pandas."
   ]
  },
  {
   "cell_type": "markdown",
   "metadata": {
    "state": "normal"
   },
   "source": [
    "#### Q1\n",
    "\n",
    "1. Read \"airbnb_ny_2019_500.csv\" into a `DataFrame` object. \n",
    "2. Print the first five rows for preview.\n",
    "\n",
    "To access the CSV file, use this path: \"https://www.dropbox.com/s/8k1fmzcmq3lf5xo/airbnb_ny_2019_500.csv?dl=1\"\n",
    "\n",
    "**Desired output:**\n",
    "\n",
    "<img src=\"https://github.com/xgao-fin/buan402/raw/gh-pages/Assignments/Assignment_1/buan402_a1_q3_output.png\" width=\"800\">"
   ]
  },
  {
   "cell_type": "code",
   "execution_count": 7,
   "metadata": {
    "deletable": false,
    "id": "Q1",
    "starter_code": "# importing necessery libraries:\n\n\n# using 'pd.read_csv()' function to load the dataset:\n\n\n# print head (i.e. first five rows) of the dataset:\n",
    "state": "graded"
   },
   "outputs": [
    {
     "data": {
      "text/html": [
       "<div>\n",
       "<style scoped>\n",
       "    .dataframe tbody tr th:only-of-type {\n",
       "        vertical-align: middle;\n",
       "    }\n",
       "\n",
       "    .dataframe tbody tr th {\n",
       "        vertical-align: top;\n",
       "    }\n",
       "\n",
       "    .dataframe thead th {\n",
       "        text-align: right;\n",
       "    }\n",
       "</style>\n",
       "<table border=\"1\" class=\"dataframe\">\n",
       "  <thead>\n",
       "    <tr style=\"text-align: right;\">\n",
       "      <th></th>\n",
       "      <th>list_id</th>\n",
       "      <th>host_id</th>\n",
       "      <th>host_name</th>\n",
       "      <th>neighborhood</th>\n",
       "      <th>room_type</th>\n",
       "      <th>price</th>\n",
       "      <th>min_nights</th>\n",
       "      <th>num_reviews</th>\n",
       "      <th>reviews_per_mon</th>\n",
       "      <th>last_review</th>\n",
       "    </tr>\n",
       "  </thead>\n",
       "  <tbody>\n",
       "    <tr>\n",
       "      <th>0</th>\n",
       "      <td>1</td>\n",
       "      <td>2787</td>\n",
       "      <td>John</td>\n",
       "      <td>Brooklyn</td>\n",
       "      <td>Private room</td>\n",
       "      <td>149</td>\n",
       "      <td>1</td>\n",
       "      <td>9.0</td>\n",
       "      <td>0.21</td>\n",
       "      <td>10/19/2018</td>\n",
       "    </tr>\n",
       "    <tr>\n",
       "      <th>1</th>\n",
       "      <td>2</td>\n",
       "      <td>2845</td>\n",
       "      <td>Jennifer</td>\n",
       "      <td>Manhattan</td>\n",
       "      <td>Entire home</td>\n",
       "      <td>225</td>\n",
       "      <td>1</td>\n",
       "      <td>45.0</td>\n",
       "      <td>0.38</td>\n",
       "      <td>5/21/2019</td>\n",
       "    </tr>\n",
       "    <tr>\n",
       "      <th>2</th>\n",
       "      <td>3</td>\n",
       "      <td>4632</td>\n",
       "      <td>Elisabeth</td>\n",
       "      <td>Manhattan</td>\n",
       "      <td>Private room</td>\n",
       "      <td>150</td>\n",
       "      <td>3</td>\n",
       "      <td>NaN</td>\n",
       "      <td>NaN</td>\n",
       "      <td>NaN</td>\n",
       "    </tr>\n",
       "    <tr>\n",
       "      <th>3</th>\n",
       "      <td>4</td>\n",
       "      <td>4869</td>\n",
       "      <td>LisaRoxanne</td>\n",
       "      <td>Brooklyn</td>\n",
       "      <td>Entire home</td>\n",
       "      <td>89</td>\n",
       "      <td>1</td>\n",
       "      <td>270.0</td>\n",
       "      <td>4.64</td>\n",
       "      <td>7/5/2019</td>\n",
       "    </tr>\n",
       "    <tr>\n",
       "      <th>4</th>\n",
       "      <td>5</td>\n",
       "      <td>7192</td>\n",
       "      <td>Laura</td>\n",
       "      <td>Manhattan</td>\n",
       "      <td>Entire home</td>\n",
       "      <td>80</td>\n",
       "      <td>10</td>\n",
       "      <td>9.0</td>\n",
       "      <td>0.10</td>\n",
       "      <td>11/19/2018</td>\n",
       "    </tr>\n",
       "  </tbody>\n",
       "</table>\n",
       "</div>"
      ],
      "text/plain": [
       "   list_id  host_id    host_name neighborhood     room_type  price  \\\n",
       "0        1     2787         John     Brooklyn  Private room    149   \n",
       "1        2     2845     Jennifer    Manhattan   Entire home    225   \n",
       "2        3     4632    Elisabeth    Manhattan  Private room    150   \n",
       "3        4     4869  LisaRoxanne     Brooklyn   Entire home     89   \n",
       "4        5     7192        Laura    Manhattan   Entire home     80   \n",
       "\n",
       "   min_nights  num_reviews  reviews_per_mon last_review  \n",
       "0           1          9.0             0.21  10/19/2018  \n",
       "1           1         45.0             0.38   5/21/2019  \n",
       "2           3          NaN              NaN         NaN  \n",
       "3           1        270.0             4.64    7/5/2019  \n",
       "4          10          9.0             0.10  11/19/2018  "
      ]
     },
     "execution_count": 7,
     "metadata": {},
     "output_type": "execute_result"
    }
   ],
   "source": [
    "# importing necessery libraries\n",
    "import pandas as pd\n",
    "\n",
    "# using 'pd.read_csv()' function to load the dataset\n",
    "df = pd.read_csv(\"https://www.dropbox.com/s/8k1fmzcmq3lf5xo/airbnb_ny_2019_500.csv?dl=1\")\n",
    "\n",
    "# print head (first five rows) of the dataset\n",
    "df.head()"
   ]
  },
  {
   "cell_type": "markdown",
   "metadata": {},
   "source": [
    "---"
   ]
  },
  {
   "cell_type": "markdown",
   "metadata": {
    "state": "normal"
   },
   "source": [
    "#### Q2\n",
    "\n",
    "Count and print the total number of listings (rows) in the dataset.\n",
    "\n",
    "Hint:\n",
    "`len()`\n",
    "\n",
    "**Desired output:**\n",
    "\n",
    "```500```"
   ]
  },
  {
   "cell_type": "code",
   "execution_count": 8,
   "metadata": {
    "deletable": false,
    "id": "Q2",
    "starter_code": "# count total listings:\n\n\n# print the count:\n",
    "state": "graded"
   },
   "outputs": [
    {
     "name": "stdout",
     "output_type": "stream",
     "text": [
      "500\n"
     ]
    }
   ],
   "source": [
    "# count total listings:\n",
    "count_row = len(df)\n",
    "\n",
    "# print the count:\n",
    "print(count_row)"
   ]
  },
  {
   "cell_type": "markdown",
   "metadata": {},
   "source": [
    "---"
   ]
  },
  {
   "cell_type": "markdown",
   "metadata": {
    "state": "normal"
   },
   "source": [
    "#### Q3\n",
    "\n",
    "1. Generate a new variable, `num_years`, defined as the number of years each listing has been listed on Airbnb. \n",
    "2. Print the first five listings in the resulting dataframe. Round the results to two decimals. \n",
    "\n",
    "Hint:\n",
    "- `num_years` can be computed from `num_reviews` and `reviews_per_mon`.\n",
    "\n",
    "**Desired output:**\n",
    "\n",
    "<img src=\"https://github.com/xgao-fin/buan402/raw/gh-pages/Assignments/Assignment_1/buan402_a1_q3_output.png\" width=\"800\">\n",
    "<img src=\"C:\\Users\\xin_g\\Dropbox\\My Teaching\\Shared_Folders\\BUAN402_Python_for_Finance\\assignments\\Assignment_1\" width=\"800\">"
   ]
  },
  {
   "cell_type": "code",
   "execution_count": 9,
   "metadata": {
    "deletable": false,
    "id": "Q3",
    "starter_code": "# calculate the number of months for each listing\n\n\n# calculate months into years and round the result to two decimals\n\n\n# print the first five listings\n\n",
    "state": "graded"
   },
   "outputs": [
    {
     "data": {
      "text/html": [
       "<div>\n",
       "<style scoped>\n",
       "    .dataframe tbody tr th:only-of-type {\n",
       "        vertical-align: middle;\n",
       "    }\n",
       "\n",
       "    .dataframe tbody tr th {\n",
       "        vertical-align: top;\n",
       "    }\n",
       "\n",
       "    .dataframe thead th {\n",
       "        text-align: right;\n",
       "    }\n",
       "</style>\n",
       "<table border=\"1\" class=\"dataframe\">\n",
       "  <thead>\n",
       "    <tr style=\"text-align: right;\">\n",
       "      <th></th>\n",
       "      <th>list_id</th>\n",
       "      <th>host_id</th>\n",
       "      <th>host_name</th>\n",
       "      <th>neighborhood</th>\n",
       "      <th>room_type</th>\n",
       "      <th>price</th>\n",
       "      <th>min_nights</th>\n",
       "      <th>num_reviews</th>\n",
       "      <th>reviews_per_mon</th>\n",
       "      <th>last_review</th>\n",
       "      <th>num_years</th>\n",
       "    </tr>\n",
       "  </thead>\n",
       "  <tbody>\n",
       "    <tr>\n",
       "      <th>0</th>\n",
       "      <td>1</td>\n",
       "      <td>2787</td>\n",
       "      <td>John</td>\n",
       "      <td>Brooklyn</td>\n",
       "      <td>Private room</td>\n",
       "      <td>149</td>\n",
       "      <td>1</td>\n",
       "      <td>9.0</td>\n",
       "      <td>0.21</td>\n",
       "      <td>10/19/2018</td>\n",
       "      <td>3.57</td>\n",
       "    </tr>\n",
       "    <tr>\n",
       "      <th>1</th>\n",
       "      <td>2</td>\n",
       "      <td>2845</td>\n",
       "      <td>Jennifer</td>\n",
       "      <td>Manhattan</td>\n",
       "      <td>Entire home</td>\n",
       "      <td>225</td>\n",
       "      <td>1</td>\n",
       "      <td>45.0</td>\n",
       "      <td>0.38</td>\n",
       "      <td>5/21/2019</td>\n",
       "      <td>9.87</td>\n",
       "    </tr>\n",
       "    <tr>\n",
       "      <th>2</th>\n",
       "      <td>3</td>\n",
       "      <td>4632</td>\n",
       "      <td>Elisabeth</td>\n",
       "      <td>Manhattan</td>\n",
       "      <td>Private room</td>\n",
       "      <td>150</td>\n",
       "      <td>3</td>\n",
       "      <td>NaN</td>\n",
       "      <td>NaN</td>\n",
       "      <td>NaN</td>\n",
       "      <td>NaN</td>\n",
       "    </tr>\n",
       "    <tr>\n",
       "      <th>3</th>\n",
       "      <td>4</td>\n",
       "      <td>4869</td>\n",
       "      <td>LisaRoxanne</td>\n",
       "      <td>Brooklyn</td>\n",
       "      <td>Entire home</td>\n",
       "      <td>89</td>\n",
       "      <td>1</td>\n",
       "      <td>270.0</td>\n",
       "      <td>4.64</td>\n",
       "      <td>7/5/2019</td>\n",
       "      <td>4.85</td>\n",
       "    </tr>\n",
       "    <tr>\n",
       "      <th>4</th>\n",
       "      <td>5</td>\n",
       "      <td>7192</td>\n",
       "      <td>Laura</td>\n",
       "      <td>Manhattan</td>\n",
       "      <td>Entire home</td>\n",
       "      <td>80</td>\n",
       "      <td>10</td>\n",
       "      <td>9.0</td>\n",
       "      <td>0.10</td>\n",
       "      <td>11/19/2018</td>\n",
       "      <td>7.50</td>\n",
       "    </tr>\n",
       "  </tbody>\n",
       "</table>\n",
       "</div>"
      ],
      "text/plain": [
       "   list_id  host_id    host_name neighborhood     room_type  price  \\\n",
       "0        1     2787         John     Brooklyn  Private room    149   \n",
       "1        2     2845     Jennifer    Manhattan   Entire home    225   \n",
       "2        3     4632    Elisabeth    Manhattan  Private room    150   \n",
       "3        4     4869  LisaRoxanne     Brooklyn   Entire home     89   \n",
       "4        5     7192        Laura    Manhattan   Entire home     80   \n",
       "\n",
       "   min_nights  num_reviews  reviews_per_mon last_review  num_years  \n",
       "0           1          9.0             0.21  10/19/2018       3.57  \n",
       "1           1         45.0             0.38   5/21/2019       9.87  \n",
       "2           3          NaN              NaN         NaN        NaN  \n",
       "3           1        270.0             4.64    7/5/2019       4.85  \n",
       "4          10          9.0             0.10  11/19/2018       7.50  "
      ]
     },
     "execution_count": 9,
     "metadata": {},
     "output_type": "execute_result"
    }
   ],
   "source": [
    "# calculate the number of months for each listing\n",
    "df['num_years'] = df['num_reviews'] / df['reviews_per_mon']\n",
    "\n",
    "# calculate months into years and round the result to two decimals\n",
    "df['num_years'] = round(df['num_years']/12,2)\n",
    "\n",
    "# print the first five listings\n",
    "df.head()\n"
   ]
  },
  {
   "cell_type": "markdown",
   "metadata": {},
   "source": [
    "---"
   ]
  },
  {
   "cell_type": "markdown",
   "metadata": {
    "state": "normal"
   },
   "source": [
    "#### Q4\n",
    "\n",
    "1. Sort all listings by `price`, from the lowest to highest.\n",
    "2. Print the five listings with lowest prices.\n",
    "\n",
    "Hint:\n",
    "- Review `.sort_values()'.\n",
    "\n",
    "**Desired output:**\n",
    "\n",
    "<img src=\"https://www.dropbox.com/s/uczmrhpgbfm7k30/Q4_1_Output.PNG?dl=1\" width=\"800\">"
   ]
  },
  {
   "cell_type": "code",
   "execution_count": 10,
   "metadata": {},
   "outputs": [
    {
     "data": {
      "text/html": [
       "<div>\n",
       "<style scoped>\n",
       "    .dataframe tbody tr th:only-of-type {\n",
       "        vertical-align: middle;\n",
       "    }\n",
       "\n",
       "    .dataframe tbody tr th {\n",
       "        vertical-align: top;\n",
       "    }\n",
       "\n",
       "    .dataframe thead th {\n",
       "        text-align: right;\n",
       "    }\n",
       "</style>\n",
       "<table border=\"1\" class=\"dataframe\">\n",
       "  <thead>\n",
       "    <tr style=\"text-align: right;\">\n",
       "      <th></th>\n",
       "      <th>list_id</th>\n",
       "      <th>host_id</th>\n",
       "      <th>host_name</th>\n",
       "      <th>neighborhood</th>\n",
       "      <th>room_type</th>\n",
       "      <th>price</th>\n",
       "      <th>min_nights</th>\n",
       "      <th>num_reviews</th>\n",
       "      <th>reviews_per_mon</th>\n",
       "      <th>last_review</th>\n",
       "      <th>num_years</th>\n",
       "    </tr>\n",
       "  </thead>\n",
       "  <tbody>\n",
       "    <tr>\n",
       "      <th>469</th>\n",
       "      <td>470</td>\n",
       "      <td>733894</td>\n",
       "      <td>Lucy</td>\n",
       "      <td>Queens</td>\n",
       "      <td>Private room</td>\n",
       "      <td>33</td>\n",
       "      <td>44</td>\n",
       "      <td>31.0</td>\n",
       "      <td>0.32</td>\n",
       "      <td>5/1/2019</td>\n",
       "      <td>8.07</td>\n",
       "    </tr>\n",
       "    <tr>\n",
       "      <th>36</th>\n",
       "      <td>37</td>\n",
       "      <td>7355</td>\n",
       "      <td>Vt</td>\n",
       "      <td>Brooklyn</td>\n",
       "      <td>Private room</td>\n",
       "      <td>35</td>\n",
       "      <td>60</td>\n",
       "      <td>NaN</td>\n",
       "      <td>NaN</td>\n",
       "      <td>NaN</td>\n",
       "      <td>NaN</td>\n",
       "    </tr>\n",
       "    <tr>\n",
       "      <th>249</th>\n",
       "      <td>250</td>\n",
       "      <td>303939</td>\n",
       "      <td>Lissette</td>\n",
       "      <td>Staten Island</td>\n",
       "      <td>Private room</td>\n",
       "      <td>36</td>\n",
       "      <td>2</td>\n",
       "      <td>193.0</td>\n",
       "      <td>1.85</td>\n",
       "      <td>6/25/2019</td>\n",
       "      <td>8.69</td>\n",
       "    </tr>\n",
       "    <tr>\n",
       "      <th>256</th>\n",
       "      <td>257</td>\n",
       "      <td>303939</td>\n",
       "      <td>Lissette</td>\n",
       "      <td>Staten Island</td>\n",
       "      <td>Private room</td>\n",
       "      <td>36</td>\n",
       "      <td>2</td>\n",
       "      <td>333.0</td>\n",
       "      <td>3.19</td>\n",
       "      <td>7/2/2019</td>\n",
       "      <td>8.70</td>\n",
       "    </tr>\n",
       "    <tr>\n",
       "      <th>484</th>\n",
       "      <td>485</td>\n",
       "      <td>806214</td>\n",
       "      <td>Vanessa</td>\n",
       "      <td>Bronx</td>\n",
       "      <td>Private room</td>\n",
       "      <td>37</td>\n",
       "      <td>4</td>\n",
       "      <td>117.0</td>\n",
       "      <td>1.21</td>\n",
       "      <td>5/21/2019</td>\n",
       "      <td>8.06</td>\n",
       "    </tr>\n",
       "  </tbody>\n",
       "</table>\n",
       "</div>"
      ],
      "text/plain": [
       "     list_id  host_id host_name   neighborhood     room_type  price  \\\n",
       "469      470   733894      Lucy         Queens  Private room     33   \n",
       "36        37     7355        Vt       Brooklyn  Private room     35   \n",
       "249      250   303939  Lissette  Staten Island  Private room     36   \n",
       "256      257   303939  Lissette  Staten Island  Private room     36   \n",
       "484      485   806214   Vanessa          Bronx  Private room     37   \n",
       "\n",
       "     min_nights  num_reviews  reviews_per_mon last_review  num_years  \n",
       "469          44         31.0             0.32    5/1/2019       8.07  \n",
       "36           60          NaN              NaN         NaN        NaN  \n",
       "249           2        193.0             1.85   6/25/2019       8.69  \n",
       "256           2        333.0             3.19    7/2/2019       8.70  \n",
       "484           4        117.0             1.21   5/21/2019       8.06  "
      ]
     },
     "execution_count": 10,
     "metadata": {},
     "output_type": "execute_result"
    }
   ],
   "source": [
    "# generate a new dataframe sorted by \"price\"\n",
    "df1 = df.sort_values(by='price')\n",
    "\n",
    "# print the five lowest-priced listings\n",
    "df1.head()"
   ]
  }
 ],
 "metadata": {
  "kernelspec": {
   "display_name": "Python 3",
   "language": "python",
   "name": "python3"
  },
  "language_info": {
   "codemirror_mode": {
    "name": "ipython",
    "version": 3
   },
   "file_extension": ".py",
   "mimetype": "text/x-python",
   "name": "python",
   "nbconvert_exporter": "python",
   "pygments_lexer": "ipython3",
   "version": "3.8.5"
  },
  "mimir": {
   "data": {},
   "last_submission_id": "",
   "project_id": "10b48c4b-010a-4425-b8bd-0a31082bb137"
  },
  "varInspector": {
   "cols": {
    "lenName": 16,
    "lenType": 16,
    "lenVar": 40
   },
   "kernels_config": {
    "python": {
     "delete_cmd_postfix": "",
     "delete_cmd_prefix": "del ",
     "library": "var_list.py",
     "varRefreshCmd": "print(var_dic_list())"
    },
    "r": {
     "delete_cmd_postfix": ") ",
     "delete_cmd_prefix": "rm(",
     "library": "var_list.r",
     "varRefreshCmd": "cat(var_dic_list()) "
    }
   },
   "types_to_exclude": [
    "module",
    "function",
    "builtin_function_or_method",
    "instance",
    "_Feature"
   ],
   "window_display": false
  }
 },
 "nbformat": 4,
 "nbformat_minor": 4
}
