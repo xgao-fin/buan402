{
 "cells": [
  {
   "cell_type": "markdown",
   "metadata": {
    "state": "normal"
   },
   "source": [
    "## Assignment 1 - Pandas Basics\n",
    "\n",
    "Before you start this assignment, please review the class notebook for 1 - Pandas."
   ]
  },
  {
   "cell_type": "markdown",
   "metadata": {
    "state": "normal"
   },
   "source": [
    "#### Q1\n",
    "\n",
    "Read *\"airbnb_ny_2019_500.csv\"* into a `DataFrame` object. The URL for the csv file is pre-defined. Print the first 5 rows for preview.\n",
    "\n",
    "Hint:\n",
    "\n",
    "`pd.read_csv()`\n",
    "\n",
    "***Desired output:***\n",
    "\n",
    "<img src=\"https://github.com/xgao-fin/buan402/raw/gh-pages/3_Assignments/Assignment_1/output/A1_Q1_Output.png\" width=\"750\">"
   ]
  },
  {
   "cell_type": "code",
   "execution_count": null,
   "metadata": {
    "deletable": false,
    "id": "Q1",
    "starter_code": "# importing necessery libraries:\n\n\n# using 'pd.read_csv()' function to load the dataset:\n\n\n# print head (i.e. first five rows) of the dataset:\n",
    "state": "graded"
   },
   "outputs": [],
   "source": [
    "# importing necessery libraries:\n",
    "import pandas as pd\n",
    "\n",
    "# URL for the CSV file:\n",
    "url = \"https://raw.githubusercontent.com/xgao-fin/buan402/gh-pages/3_Assignments/Assignment_1/data/airbnb_ny_2019_500.csv\";\n",
    "\n",
    "# read the CSV file and save as a dataframe:\n",
    "df = pd.read_csv(url)\n",
    "\n",
    "# print head (first five rows):\n",
    "df.head()"
   ]
  },
  {
   "cell_type": "markdown",
   "metadata": {},
   "source": [
    "---"
   ]
  },
  {
   "cell_type": "markdown",
   "metadata": {
    "state": "normal"
   },
   "source": [
    "#### Q2\n",
    "\n",
    "Count and print the total number of listings (rows) in the dataset from Q1.\n",
    "\n",
    "Hint:\n",
    "`len()`\n",
    "\n",
    "***Desired output:***\n",
    "\n",
    "```500```"
   ]
  },
  {
   "cell_type": "code",
   "execution_count": null,
   "metadata": {
    "deletable": false,
    "id": "Q2",
    "starter_code": "# count total listings:\n\n\n# print the count:\n",
    "state": "graded"
   },
   "outputs": [],
   "source": [
    "# count total listings:\n",
    "count_row = len(df)\n",
    "\n",
    "# print the count:\n",
    "print(count_row)"
   ]
  },
  {
   "cell_type": "markdown",
   "metadata": {},
   "source": [
    "---"
   ]
  },
  {
   "cell_type": "markdown",
   "metadata": {
    "state": "normal"
   },
   "source": [
    "#### Q3\n",
    "\n",
    "In the dataframe in Q1, generate a new variable, `num_years`, defined as the number of years each listing has been listed on Airbnb. Round the result to two decimals. Print the first 5 listings. \n",
    "\n",
    "Note that you will use the resulting dataframe in following questions. \n",
    "\n",
    "Hint:\n",
    "- `num_years` can be computed from `num_reviews` and `reviews_per_mon`.\n",
    "- `round()`.\n",
    "\n",
    "***Desired output:***\n",
    "\n",
    "<img src=\"https://github.com/xgao-fin/buan402/raw/gh-pages/3_Assignments/Assignment_1/output/A1_Q3_Output.png\" width=\"750\">\n"
   ]
  },
  {
   "cell_type": "code",
   "execution_count": null,
   "metadata": {
    "deletable": false,
    "id": "Q3",
    "starter_code": "# calculate the number of months for each listing\n\n\n# calculate months into years and round the result to two decimals\n\n\n# print the first five listings\n\n",
    "state": "graded"
   },
   "outputs": [],
   "source": [
    "# calculate the number of months for each listing:\n",
    "df['num_years'] = df['num_reviews'] / df['reviews_per_mon']\n",
    "\n",
    "# convert months into years and round the result to two decimals:\n",
    "df['num_years'] = round(df['num_years']/12,2)\n",
    "\n",
    "# print the first 5 listings:\n",
    "df.head()\n"
   ]
  },
  {
   "cell_type": "markdown",
   "metadata": {},
   "source": [
    "---"
   ]
  },
  {
   "cell_type": "markdown",
   "metadata": {
    "state": "normal"
   },
   "source": [
    "#### Q4\n",
    "\n",
    "1. Select and print the first listing and the *first 5* variables from the resulting dataframe in Q3. \n",
    "\n",
    "Hint:\n",
    "- `.iloc[]`.\n",
    "\n",
    "***Desired output:***\n",
    "\n",
    "<img src=\"https://raw.githubusercontent.com/xgao-fin/buan402/gh-pages/3_Assignments/Assignment_1/output/A1_Q4_1_Output.png\" width=\"350\">"
   ]
  },
  {
   "cell_type": "code",
   "execution_count": null,
   "metadata": {},
   "outputs": [],
   "source": [
    "# (optional) make a copy of the resulting dataframe in Q3:\n",
    "df4 = df.copy()\n",
    "\n",
    "# print the desired output:\n",
    "df4.iloc[[0],0:5]\n"
   ]
  },
  {
   "cell_type": "markdown",
   "metadata": {
    "state": "normal"
   },
   "source": [
    "2. Select and print the last listing with the *last 5* variables from the resulting dataframe in Q3. \n",
    "\n",
    "***Desired output:***\n",
    "\n",
    "<img src=\"https://raw.githubusercontent.com/xgao-fin/buan402/gh-pages/3_Assignments/Assignment_1/output/A1_Q4_2_Output.png\" width=\"450\">"
   ]
  },
  {
   "cell_type": "code",
   "execution_count": null,
   "metadata": {},
   "outputs": [],
   "source": [
    "# Print the last listing and the last 5 variables\n",
    "df4.iloc[[-1],-5:]"
   ]
  },
  {
   "cell_type": "markdown",
   "metadata": {
    "state": "normal"
   },
   "source": [
    "3. Create a new dataframe including all \"Private room\" listings located in \"Manhattan\" from the resulting dataframe in Q3. Print the first 5 listings.\n",
    "\n",
    "Hint:\n",
    "- `.loc[]`.\n",
    "\n",
    "***Desired output:***\n",
    "\n",
    "<img src=\"https://raw.githubusercontent.com/xgao-fin/buan402/gh-pages/3_Assignments/Assignment_1/output/A1_Q4_3_Output.png\" width=\"850\">"
   ]
  },
  {
   "cell_type": "code",
   "execution_count": null,
   "metadata": {},
   "outputs": [],
   "source": [
    "# Select the required listings and assign a new dataframe\n",
    "df4_3 = df4.loc[(df4['room_type']=='Private room') & (df4['neighborhood']=='Manhattan'), :]\n",
    "\n",
    "# print the desire output:\n",
    "df4_3.head()"
   ]
  },
  {
   "cell_type": "markdown",
   "metadata": {
    "state": "normal"
   },
   "source": [
    "4. Create a new dataframe including all \"Private room\" listings located in \"Manhattan\" AND with \"num_reviews\">200 AND \"price\"<300 from the resulting dataframe in Q3. Print the first 10 listings.\n",
    "\n",
    "Hint:\n",
    "- `.loc[]`.\n",
    "\n",
    "***Desired output:***\n",
    "\n",
    "<img src=\"https://raw.githubusercontent.com/xgao-fin/buan402/gh-pages/3_Assignments/Assignment_1/output/A1_Q4_4_Output.png\" width=\"850\">"
   ]
  },
  {
   "cell_type": "code",
   "execution_count": null,
   "metadata": {},
   "outputs": [],
   "source": [
    "# Select the required listings and assign a new dataframe:\n",
    "df4_4 = df4.loc[(df4['room_type']=='Private room') & (df4['neighborhood']=='Manhattan') & (df4['num_reviews']>200) & (df4['price']<300), :]\n",
    "\n",
    "# print the desired output:\n",
    "df4_4.head(10)\n"
   ]
  },
  {
   "cell_type": "markdown",
   "metadata": {},
   "source": [
    "---"
   ]
  },
  {
   "cell_type": "markdown",
   "metadata": {
    "state": "normal"
   },
   "source": [
    "#### Q5\n",
    "\n",
    "1. Create a dataframe including all \"Private room\" in \"Bronx\".\n",
    "2. Sort the selected listings by `price` in ascending order.\n",
    "3. Print the first 5 listings.\n",
    "\n",
    "Hint:\n",
    "- Review `.sort_values()`.\n",
    "\n",
    "***Desired output:***\n",
    "\n",
    "<img src=\"https://raw.githubusercontent.com/xgao-fin/buan402/gh-pages/3_Assignments/Assignment_1/output/A1_Q5_3_Output.png\" width=\"850\">"
   ]
  },
  {
   "cell_type": "code",
   "execution_count": null,
   "metadata": {},
   "outputs": [],
   "source": [
    "# make a copy of the resulting dataframe in Q3\n",
    "df5 = df.copy()\n",
    "\n",
    "# Select the required listings \n",
    "df5_1 = df5.loc[(df5['room_type']=='Private room') & (df5['neighborhood']=='Bronx'), :]\n",
    "\n",
    "# sort by \"price\"\n",
    "df5_2 = df5_1.sort_values(by='price')\n",
    "\n",
    "# print the first 5 listings\n",
    "df5_2.head()"
   ]
  },
  {
   "cell_type": "markdown",
   "metadata": {},
   "source": [
    "---"
   ]
  },
  {
   "cell_type": "markdown",
   "metadata": {
    "state": "normal"
   },
   "source": [
    "#### Q6\n",
    "\n",
    "Sort the resulting dataframe in Q3 by `neighborhood` in alphabetical order, `room_type` in alphabetical order, and `price` in descending order. Print the first 10 listings of the sorted dataframe.\n",
    "\n",
    "Hint:\n",
    "- `.sort_values()`.\n",
    "\n",
    "***Desired output:***\n",
    "\n",
    "<img src=\"https://raw.githubusercontent.com/xgao-fin/buan402/gh-pages/3_Assignments/Assignment_1/output/A1_Q6_2_Output.png\" width=\"850\">"
   ]
  },
  {
   "cell_type": "code",
   "execution_count": null,
   "metadata": {},
   "outputs": [],
   "source": [
    "# (optional) make a copy of the resulting dataframe in Q3\n",
    "df6 = df.copy()\n",
    "\n",
    "# define a list of sorting keys\n",
    "keys = ['neighborhood', 'room_type', 'price']\n",
    "\n",
    "# define a list for sorting orders\n",
    "orders = [True, True, False]\n",
    "\n",
    "# generate a new dataframe sorted by the key list\n",
    "df6_2 = df6.sort_values(by=keys,\n",
    "                       ascending=[True, True, False])\n",
    "\n",
    "# print the 10 listings of the sorted dataframe\n",
    "df6_2.head(10)"
   ]
  },
  {
   "cell_type": "markdown",
   "metadata": {},
   "source": [
    "3. Print the last 10 listings of the sorted dataframe.\n",
    "\n",
    "***Desired output:***\n",
    "\n",
    "<img src=\"https://raw.githubusercontent.com/xgao-fin/buan402/gh-pages/3_Assignments/Assignment_1/output/A1_Q6_3_Output.png\" width=\"850\">"
   ]
  },
  {
   "cell_type": "code",
   "execution_count": null,
   "metadata": {},
   "outputs": [],
   "source": [
    "# print the 10 listings of the sorted dataframe\n",
    "df6_2.tail(10)"
   ]
  },
  {
   "cell_type": "markdown",
   "metadata": {},
   "source": [
    "---"
   ]
  },
  {
   "cell_type": "markdown",
   "metadata": {
    "state": "normal"
   },
   "source": [
    "#### Q7\n",
    "\n",
    "From the resulting dataframe in Q3, select all \"Entire home\" listings located in \"Brooklyn\". Print the first 10 listings.\n",
    "\n",
    "***Desired output:***\n",
    "\n",
    "<img src=\"https://raw.githubusercontent.com/xgao-fin/buan402/gh-pages/3_Assignments/Assignment_1/output/A1_Q7_1_Output.png\" width=\"850\">"
   ]
  },
  {
   "cell_type": "code",
   "execution_count": null,
   "metadata": {},
   "outputs": [],
   "source": [
    "# (optional) make a copy of the resulting dataframe in Q3:\n",
    "df7 = df.copy()\n",
    "\n",
    "# generate a new dataframe by selections:\n",
    "df7_1 = df7.loc[(df7['room_type']=='Entire home') & (df7['neighborhood']=='Brooklyn'), :]\n",
    "\n",
    "# print the first 10 listings:\n",
    "df7_1.head(10)\n"
   ]
  },
  {
   "cell_type": "markdown",
   "metadata": {},
   "source": [
    "2. From the selected dataframe in Part 1, compute `num_reviews` ranks and assign the rank values to a new variable named `num_reviews_rank`. Print the first 10 listings.\n",
    "\n",
    "Hint:\n",
    "- `.rank()`.\n",
    "\n",
    "***Desired output:***\n",
    "\n",
    "<img src=\"https://raw.githubusercontent.com/xgao-fin/buan402/gh-pages/3_Assignments/Assignment_1/output/A1_Q7_2_Output.png\" width=\"850\">"
   ]
  },
  {
   "cell_type": "code",
   "execution_count": null,
   "metadata": {},
   "outputs": [],
   "source": [
    "# (optional) make a copy:\n",
    "df7_2 = df7_1.copy()\n",
    "\n",
    "# compute \"num_reviews\" ranks:\n",
    "df7_2['num_reviews_rank'] = df7_2['num_reviews'].rank()\n",
    "\n",
    "# print the first 10 listings:\n",
    "df7_2.head(10)\n"
   ]
  },
  {
   "cell_type": "markdown",
   "metadata": {},
   "source": [
    "3. Sort the resulting datafame from Part 2 by `num_reviews_rank` in *descending* order. Print the first 10 listings.\n",
    "\n",
    "***Desired output:***\n",
    "\n",
    "<img src=\"https://raw.githubusercontent.com/xgao-fin/buan402/gh-pages/3_Assignments/Assignment_1/output/A1_Q7_3_Output.png\" width=\"900\">"
   ]
  },
  {
   "cell_type": "code",
   "execution_count": null,
   "metadata": {},
   "outputs": [],
   "source": [
    "# sort by \"num_reviews_rank\":\n",
    "df7_3 = df7_2.sort_values(by='num_reviews_rank',\n",
    "                         ascending=False)\n",
    "\n",
    "# print the first 10 listings\n",
    "df7_3.head(10)\n"
   ]
  },
  {
   "cell_type": "markdown",
   "metadata": {},
   "source": [
    "---"
   ]
  },
  {
   "cell_type": "markdown",
   "metadata": {},
   "source": [
    "#### Q8\n",
    "\n",
    "1. Compute and print the following statistics of the following variables for all *\"Entire home\"* listings from the resulting dataframe in Q3:\n",
    " - Variables: `price`, `min_nights`, `num_reviews`, `reviews_per_mon`.\n",
    " - Statistics: *count, mean, std, minimum, 1st, 10th, 25th, 50th, 75th, 90th, 99th precentiles, and maximum*\n",
    "\n",
    "***Desired output:***\n",
    "\n",
    "<img src=\"https://raw.githubusercontent.com/xgao-fin/buan402/gh-pages/3_Assignments/Assignment_1/output/A1_Q8_1_Output.png\" width=\"400\">"
   ]
  },
  {
   "cell_type": "code",
   "execution_count": null,
   "metadata": {},
   "outputs": [],
   "source": [
    "# select \"Entire home\" listings:\n",
    "df8_1 = df.loc[df['room_type']=='Entire home']\n",
    "\n",
    "# extract variables of interest:\n",
    "varlist = ['price', 'min_nights', 'num_reviews', 'reviews_per_mon']\n",
    "df8_1 = df8_1[varlist]\n",
    "\n",
    "# define a list of percentiles:\n",
    "pctls = [.01, .1, .25, .5, .75, .9, .99]\n",
    "\n",
    "# compute required stats:\n",
    "df8_1_desc = df8_1.describe(pctls)\n",
    "\n",
    "# print:\n",
    "df8_1_desc\n"
   ]
  },
  {
   "cell_type": "markdown",
   "metadata": {},
   "source": [
    "2. Compute and print the following statistics of the following variables for all *\"Shared room\"* listings in *\"Manhattan\"* from the resulting dataframe in Q3:\n",
    " - Variables: `price`, `min_nights`, `num_reviews`, `reviews_per_mon`.\n",
    " - Statistics: *count, mean, std, minimum, 1st, 10th, 25th, 50th, 75th, 90th, 99th precentiles, and maximum*\n",
    "\n",
    "***Desired output:***\n",
    "\n",
    "<img src=\"https://raw.githubusercontent.com/xgao-fin/buan402/gh-pages/3_Assignments/Assignment_1/output/A1_Q8_2_Output.png\" width=\"400\">"
   ]
  },
  {
   "cell_type": "code",
   "execution_count": null,
   "metadata": {},
   "outputs": [],
   "source": [
    "# select \"Shared room\" in \"Manhattan\"\n",
    "df8_2 = df.loc[(df['room_type']=='Shared room') & (df['neighborhood']=='Manhattan'), :]\n",
    "\n",
    "# extract variables of interest\n",
    "varlist = ['price', 'min_nights', 'num_reviews', 'reviews_per_mon']\n",
    "df8_2 = df8_2[varlist]\n",
    "\n",
    "# define a list of percentiles:\n",
    "pctls = [.01, .1, .25, .5, .75, .9, .99]\n",
    "\n",
    "# compute summary stats:\n",
    "df8_2_desc = df8_2.describe(pctls)\n",
    "\n",
    "# print:\n",
    "df8_2_desc\n"
   ]
  }
 ],
 "metadata": {
  "kernelspec": {
   "display_name": "Python 3",
   "language": "python",
   "name": "python3"
  },
  "language_info": {
   "codemirror_mode": {
    "name": "ipython",
    "version": 3
   },
   "file_extension": ".py",
   "mimetype": "text/x-python",
   "name": "python",
   "nbconvert_exporter": "python",
   "pygments_lexer": "ipython3",
   "version": "3.8.5"
  },
  "mimir": {
   "data": {},
   "last_submission_id": "",
   "project_id": "10b48c4b-010a-4425-b8bd-0a31082bb137"
  },
  "varInspector": {
   "cols": {
    "lenName": 16,
    "lenType": 16,
    "lenVar": 40
   },
   "kernels_config": {
    "python": {
     "delete_cmd_postfix": "",
     "delete_cmd_prefix": "del ",
     "library": "var_list.py",
     "varRefreshCmd": "print(var_dic_list())"
    },
    "r": {
     "delete_cmd_postfix": ") ",
     "delete_cmd_prefix": "rm(",
     "library": "var_list.r",
     "varRefreshCmd": "cat(var_dic_list()) "
    }
   },
   "types_to_exclude": [
    "module",
    "function",
    "builtin_function_or_method",
    "instance",
    "_Feature"
   ],
   "window_display": false
  }
 },
 "nbformat": 4,
 "nbformat_minor": 4
}
